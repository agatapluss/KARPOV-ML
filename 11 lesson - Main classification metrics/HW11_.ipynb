{
 "cells": [
  {
   "cell_type": "markdown",
   "metadata": {},
   "source": [
    "### Метрики качества классификации.\n",
    "\n",
    "Сегодня мы научимся использовать различные метрики для оценки качества моделей.\n",
    "\n",
    "Для начала загрузим данные с предыдущей домашей задачи с небольшим `сюрпризом`. "
   ]
  },
  {
   "cell_type": "code",
   "execution_count": 1,
   "metadata": {
    "_cell_guid": "b1076dfc-b9ad-4769-8c92-a6c4dae69d19",
    "_uuid": "8f2839f25d086af736a60e9eeb907d3b93b6e0e5",
    "execution": {
     "iopub.execute_input": "2022-04-18T19:36:17.596948Z",
     "iopub.status.busy": "2022-04-18T19:36:17.596460Z",
     "iopub.status.idle": "2022-04-18T19:36:17.631863Z",
     "shell.execute_reply": "2022-04-18T19:36:17.630527Z",
     "shell.execute_reply.started": "2022-04-18T19:36:17.596825Z"
    }
   },
   "outputs": [],
   "source": [
    "import numpy as np\n",
    "import pandas as pd\n",
    "import matplotlib.pyplot as plt\n",
    "import warnings\n",
    "warnings.filterwarnings('ignore')"
   ]
  },
  {
   "cell_type": "code",
   "execution_count": 2,
   "metadata": {
    "execution": {
     "iopub.execute_input": "2022-04-18T19:36:21.376003Z",
     "iopub.status.busy": "2022-04-18T19:36:21.375153Z",
     "iopub.status.idle": "2022-04-18T19:40:24.843185Z",
     "shell.execute_reply": "2022-04-18T19:40:24.841980Z",
     "shell.execute_reply.started": "2022-04-18T19:36:21.375950Z"
    }
   },
   "outputs": [],
   "source": [
    "data = pd.read_csv(\"processed_train.csv\")"
   ]
  },
  {
   "cell_type": "code",
   "execution_count": 3,
   "metadata": {},
   "outputs": [
    {
     "data": {
      "text/html": [
       "<div>\n",
       "<style scoped>\n",
       "    .dataframe tbody tr th:only-of-type {\n",
       "        vertical-align: middle;\n",
       "    }\n",
       "\n",
       "    .dataframe tbody tr th {\n",
       "        vertical-align: top;\n",
       "    }\n",
       "\n",
       "    .dataframe thead th {\n",
       "        text-align: right;\n",
       "    }\n",
       "</style>\n",
       "<table border=\"1\" class=\"dataframe\">\n",
       "  <thead>\n",
       "    <tr style=\"text-align: right;\">\n",
       "      <th></th>\n",
       "      <th>EngineVersion</th>\n",
       "      <th>AppVersion</th>\n",
       "      <th>AvSigVersion</th>\n",
       "      <th>RtpStateBitfield</th>\n",
       "      <th>IsSxsPassiveMode</th>\n",
       "      <th>AVProductStatesIdentifier</th>\n",
       "      <th>AVProductsInstalled</th>\n",
       "      <th>AVProductsEnabled</th>\n",
       "      <th>HasTpm</th>\n",
       "      <th>CountryIdentifier</th>\n",
       "      <th>...</th>\n",
       "      <th>Platform_windows8</th>\n",
       "      <th>Processor_x64</th>\n",
       "      <th>Processor_x86</th>\n",
       "      <th>Census_DeviceFamily_Windows.Server</th>\n",
       "      <th>Census_OSArchitecture_arm64</th>\n",
       "      <th>Census_OSArchitecture_x86</th>\n",
       "      <th>Census_GenuineStateName_IS_GENUINE</th>\n",
       "      <th>Census_GenuineStateName_OFFLINE</th>\n",
       "      <th>Census_GenuineStateName_UNKNOWN</th>\n",
       "      <th>HasDetections</th>\n",
       "    </tr>\n",
       "  </thead>\n",
       "  <tbody>\n",
       "    <tr>\n",
       "      <th>0</th>\n",
       "      <td>0.552153</td>\n",
       "      <td>0.530941</td>\n",
       "      <td>0.587952</td>\n",
       "      <td>7.0</td>\n",
       "      <td>0</td>\n",
       "      <td>53447.0</td>\n",
       "      <td>1.0</td>\n",
       "      <td>1.0</td>\n",
       "      <td>1</td>\n",
       "      <td>29</td>\n",
       "      <td>...</td>\n",
       "      <td>0</td>\n",
       "      <td>1</td>\n",
       "      <td>0</td>\n",
       "      <td>0</td>\n",
       "      <td>0</td>\n",
       "      <td>0</td>\n",
       "      <td>1</td>\n",
       "      <td>0</td>\n",
       "      <td>0</td>\n",
       "      <td>0</td>\n",
       "    </tr>\n",
       "    <tr>\n",
       "      <th>1</th>\n",
       "      <td>0.448751</td>\n",
       "      <td>0.528931</td>\n",
       "      <td>0.484434</td>\n",
       "      <td>7.0</td>\n",
       "      <td>0</td>\n",
       "      <td>53447.0</td>\n",
       "      <td>1.0</td>\n",
       "      <td>1.0</td>\n",
       "      <td>1</td>\n",
       "      <td>93</td>\n",
       "      <td>...</td>\n",
       "      <td>0</td>\n",
       "      <td>1</td>\n",
       "      <td>0</td>\n",
       "      <td>0</td>\n",
       "      <td>0</td>\n",
       "      <td>0</td>\n",
       "      <td>0</td>\n",
       "      <td>1</td>\n",
       "      <td>0</td>\n",
       "      <td>0</td>\n",
       "    </tr>\n",
       "    <tr>\n",
       "      <th>2</th>\n",
       "      <td>0.552153</td>\n",
       "      <td>0.530941</td>\n",
       "      <td>0.557522</td>\n",
       "      <td>7.0</td>\n",
       "      <td>0</td>\n",
       "      <td>53447.0</td>\n",
       "      <td>1.0</td>\n",
       "      <td>1.0</td>\n",
       "      <td>1</td>\n",
       "      <td>86</td>\n",
       "      <td>...</td>\n",
       "      <td>0</td>\n",
       "      <td>1</td>\n",
       "      <td>0</td>\n",
       "      <td>0</td>\n",
       "      <td>0</td>\n",
       "      <td>0</td>\n",
       "      <td>1</td>\n",
       "      <td>0</td>\n",
       "      <td>0</td>\n",
       "      <td>0</td>\n",
       "    </tr>\n",
       "    <tr>\n",
       "      <th>3</th>\n",
       "      <td>0.552153</td>\n",
       "      <td>0.530941</td>\n",
       "      <td>0.482759</td>\n",
       "      <td>7.0</td>\n",
       "      <td>0</td>\n",
       "      <td>53447.0</td>\n",
       "      <td>1.0</td>\n",
       "      <td>1.0</td>\n",
       "      <td>1</td>\n",
       "      <td>97</td>\n",
       "      <td>...</td>\n",
       "      <td>0</td>\n",
       "      <td>1</td>\n",
       "      <td>0</td>\n",
       "      <td>0</td>\n",
       "      <td>0</td>\n",
       "      <td>0</td>\n",
       "      <td>1</td>\n",
       "      <td>0</td>\n",
       "      <td>0</td>\n",
       "      <td>0</td>\n",
       "    </tr>\n",
       "    <tr>\n",
       "      <th>4</th>\n",
       "      <td>0.493175</td>\n",
       "      <td>0.530941</td>\n",
       "      <td>0.505721</td>\n",
       "      <td>7.0</td>\n",
       "      <td>0</td>\n",
       "      <td>53447.0</td>\n",
       "      <td>1.0</td>\n",
       "      <td>1.0</td>\n",
       "      <td>1</td>\n",
       "      <td>164</td>\n",
       "      <td>...</td>\n",
       "      <td>0</td>\n",
       "      <td>1</td>\n",
       "      <td>0</td>\n",
       "      <td>0</td>\n",
       "      <td>0</td>\n",
       "      <td>0</td>\n",
       "      <td>1</td>\n",
       "      <td>0</td>\n",
       "      <td>0</td>\n",
       "      <td>0</td>\n",
       "    </tr>\n",
       "  </tbody>\n",
       "</table>\n",
       "<p>5 rows × 79 columns</p>\n",
       "</div>"
      ],
      "text/plain": [
       "   EngineVersion  AppVersion  AvSigVersion  RtpStateBitfield  \\\n",
       "0       0.552153    0.530941      0.587952               7.0   \n",
       "1       0.448751    0.528931      0.484434               7.0   \n",
       "2       0.552153    0.530941      0.557522               7.0   \n",
       "3       0.552153    0.530941      0.482759               7.0   \n",
       "4       0.493175    0.530941      0.505721               7.0   \n",
       "\n",
       "   IsSxsPassiveMode  AVProductStatesIdentifier  AVProductsInstalled  \\\n",
       "0                 0                    53447.0                  1.0   \n",
       "1                 0                    53447.0                  1.0   \n",
       "2                 0                    53447.0                  1.0   \n",
       "3                 0                    53447.0                  1.0   \n",
       "4                 0                    53447.0                  1.0   \n",
       "\n",
       "   AVProductsEnabled  HasTpm  CountryIdentifier  ...  Platform_windows8  \\\n",
       "0                1.0       1                 29  ...                  0   \n",
       "1                1.0       1                 93  ...                  0   \n",
       "2                1.0       1                 86  ...                  0   \n",
       "3                1.0       1                 97  ...                  0   \n",
       "4                1.0       1                164  ...                  0   \n",
       "\n",
       "   Processor_x64  Processor_x86  Census_DeviceFamily_Windows.Server  \\\n",
       "0              1              0                                   0   \n",
       "1              1              0                                   0   \n",
       "2              1              0                                   0   \n",
       "3              1              0                                   0   \n",
       "4              1              0                                   0   \n",
       "\n",
       "   Census_OSArchitecture_arm64  Census_OSArchitecture_x86  \\\n",
       "0                            0                          0   \n",
       "1                            0                          0   \n",
       "2                            0                          0   \n",
       "3                            0                          0   \n",
       "4                            0                          0   \n",
       "\n",
       "   Census_GenuineStateName_IS_GENUINE  Census_GenuineStateName_OFFLINE  \\\n",
       "0                                   1                                0   \n",
       "1                                   0                                1   \n",
       "2                                   1                                0   \n",
       "3                                   1                                0   \n",
       "4                                   1                                0   \n",
       "\n",
       "   Census_GenuineStateName_UNKNOWN  HasDetections  \n",
       "0                                0              0  \n",
       "1                                0              0  \n",
       "2                                0              0  \n",
       "3                                0              0  \n",
       "4                                0              0  \n",
       "\n",
       "[5 rows x 79 columns]"
      ]
     },
     "execution_count": 3,
     "metadata": {},
     "output_type": "execute_result"
    }
   ],
   "source": [
    "data.head()"
   ]
  },
  {
   "cell_type": "markdown",
   "metadata": {},
   "source": [
    "Один из гномов очень завидовал своим братьям, переплюнувшим его по `accuracy` в бонусном задании предудыщей домашней работы. Поэтому совершил следующее злодеяние: Выкинул кучу объектов таким образом, чтобы баланс классов нарушился! \n",
    "\n",
    "`Может, accuracy у них станет еще больше, зато преподаватель их отругает, ведь использовать accuracy при дизбалансе не очень-то хорошо!` - подумал гном\n",
    "\n",
    "Замерьте количество объектов в порченном датафрейме.\n",
    "В какой пропорции соотносятся классы теперь?"
   ]
  },
  {
   "cell_type": "code",
   "execution_count": 4,
   "metadata": {
    "execution": {
     "iopub.execute_input": "2022-04-18T20:14:01.576406Z",
     "iopub.status.busy": "2022-04-18T20:14:01.576086Z",
     "iopub.status.idle": "2022-04-18T20:14:01.616370Z",
     "shell.execute_reply": "2022-04-18T20:14:01.614785Z",
     "shell.execute_reply.started": "2022-04-18T20:14:01.576375Z"
    }
   },
   "outputs": [
    {
     "data": {
      "text/plain": [
       "0    99940\n",
       "1    20012\n",
       "Name: HasDetections, dtype: int64"
      ]
     },
     "execution_count": 4,
     "metadata": {},
     "output_type": "execute_result"
    }
   ],
   "source": [
    "data['HasDetections'].value_counts()"
   ]
  },
  {
   "cell_type": "markdown",
   "metadata": {},
   "source": [
    "Произведем процедуру отложенной выборки"
   ]
  },
  {
   "cell_type": "code",
   "execution_count": 5,
   "metadata": {},
   "outputs": [],
   "source": [
    "y = data['HasDetections']\n",
    "X = data.drop('HasDetections', axis=1)\n",
    "\n",
    "from sklearn.model_selection import train_test_split\n",
    "X_train, X_test, y_train, y_test  = train_test_split(X, y, \n",
    "                                                     test_size=0.25, \n",
    "                                                     shuffle=True, \n",
    "                                                     random_state=1)"
   ]
  },
  {
   "cell_type": "markdown",
   "metadata": {},
   "source": [
    "Обучите логистическую регрессию с параметром `l2` регуляризации `C = 0.01` на порченном датасете.\n",
    "Замерьте долю верно классифицированных объектов на трейне и на тесте. Можете использовать абсолютно любые конструкции, главное не забыть пронормировать данные с помощью `StandardScaler`"
   ]
  },
  {
   "cell_type": "code",
   "execution_count": 6,
   "metadata": {
    "execution": {
     "iopub.execute_input": "2022-04-18T20:20:31.238316Z",
     "iopub.status.busy": "2022-04-18T20:20:31.238010Z",
     "iopub.status.idle": "2022-04-18T20:20:55.483158Z",
     "shell.execute_reply": "2022-04-18T20:20:55.482073Z",
     "shell.execute_reply.started": "2022-04-18T20:20:31.238283Z"
    }
   },
   "outputs": [],
   "source": [
    "from sklearn.pipeline import Pipeline\n",
    "from sklearn.preprocessing import StandardScaler\n",
    "from sklearn.linear_model import LogisticRegression\n",
    "\n",
    "\n",
    "\n",
    "pipe = Pipeline([('scaler', StandardScaler()), ('LR', LogisticRegression(penalty = 'l2', C = 0.01))])\n",
    "\n",
    "pipe.fit(X_train, y_train)\n",
    "\n",
    "! telegram-send 'Готово!'"
   ]
  },
  {
   "cell_type": "code",
   "execution_count": 7,
   "metadata": {},
   "outputs": [
    {
     "name": "stdout",
     "output_type": "stream",
     "text": [
      "[0 1]\n",
      " доля верных ответов на трейне 0.841\n",
      " доля верных ответов на тесте 0.842\n"
     ]
    }
   ],
   "source": [
    "print(pipe.classes_)\n",
    "\n",
    "print(f' доля верных ответов на трейне {round(pipe.score(X_train, y_train), 3)}')\n",
    "print(f' доля верных ответов на тесте {round(pipe.score(X_test, y_test), 3)}')"
   ]
  },
  {
   "cell_type": "markdown",
   "metadata": {},
   "source": [
    "Кажется, что, по сравнению с результатами в предыдущей домашней работе, мы построили куда более сильную модель. Но мы сильно заблуждаемся, если в это верим!"
   ]
  },
  {
   "cell_type": "markdown",
   "metadata": {},
   "source": [
    "**Задание 2.**\n",
    "Для бинарной классификации можно построить так называемую **confision matrix** (матрица ошибок), которая подсчитывает количество правильных и неправильных предсказаний и разделяет их по двум классам.\n",
    "\n",
    "|          | a(x) = -1  | a(x) = +1  |\n",
    "|----------|------------|------------|\n",
    "|  y = -1  |     TN     |     FP     |\n",
    "|  y = +1  |     FN     |     TP     |\n",
    "\n",
    "* Positive/Negative отражает то, к какому классу определила объект наша модель $a(x)$, в нашем случае нулевой класс соответствует Negative (нет вируса), а единичный класс - Positive (есть вирус).\n",
    "\n",
    "* True/False просто показывает совпало ли предсказание модели с реальным классом объекта, поэтому на главной диагонали стоят True, а на побочной False.\n",
    "\n",
    "**2.1)** Постройте вручную матрицу ошибок на тестовой выборке, используя реальные и предсказанные вашей моделью метки классов. Потом сравните результат с методом `confusion_matrix` в `sklearn`."
   ]
  },
  {
   "cell_type": "code",
   "execution_count": 39,
   "metadata": {},
   "outputs": [
    {
     "data": {
      "text/plain": [
       "array([ True,  True,  True, ...,  True,  True,  True])"
      ]
     },
     "execution_count": 39,
     "metadata": {},
     "output_type": "execute_result"
    }
   ],
   "source": [
    "pred_y = pipe.predict(X_test)\n",
    "pred_y == 0"
   ]
  },
  {
   "cell_type": "code",
   "execution_count": 53,
   "metadata": {
    "execution": {
     "iopub.execute_input": "2022-04-18T20:21:30.605778Z",
     "iopub.status.busy": "2022-04-18T20:21:30.605442Z",
     "iopub.status.idle": "2022-04-18T20:21:30.616526Z",
     "shell.execute_reply": "2022-04-18T20:21:30.615956Z",
     "shell.execute_reply.started": "2022-04-18T20:21:30.605741Z"
    }
   },
   "outputs": [
    {
     "data": {
      "text/plain": [
       "527"
      ]
     },
     "execution_count": 53,
     "metadata": {},
     "output_type": "execute_result"
    }
   ],
   "source": [
    "pipe.fit(X_train, y_train)\n",
    "pred_test = pipe.predict(X_test)\n",
    "\n",
    "### Your code is here\n",
    "tn = ((pred_y == 0) * (y_test == 0)).sum()\n",
    "fp = ((pred_y == 1) * (y_test == 0)).sum()\n",
    "fn = ((pred_y == 0) * (y_test ==1)).sum()\n",
    "tp = ((pred_y ==1) * (y_test == 1)).sum()\n"
   ]
  },
  {
   "cell_type": "code",
   "execution_count": 9,
   "metadata": {
    "execution": {
     "iopub.execute_input": "2022-04-18T20:21:35.011917Z",
     "iopub.status.busy": "2022-04-18T20:21:35.011578Z",
     "iopub.status.idle": "2022-04-18T20:21:35.023948Z",
     "shell.execute_reply": "2022-04-18T20:21:35.023227Z",
     "shell.execute_reply.started": "2022-04-18T20:21:35.011882Z"
    }
   },
   "outputs": [
    {
     "name": "stdout",
     "output_type": "stream",
     "text": [
      "True Negative errors: 24726\n",
      "False Positive errors: 293\n",
      "False Negative errors: 4442\n",
      "True Positive errors: 527\n"
     ]
    }
   ],
   "source": [
    "from sklearn.metrics import confusion_matrix\n",
    "\n",
    "tn, fp, fn, tp = confusion_matrix(y_test, pipe.predict(X_test)).ravel()\n",
    "\n",
    "print(f'True Negative errors: {tn}')\n",
    "print(f'False Positive errors: {fp}')\n",
    "print(f'False Negative errors: {fn}')\n",
    "print(f'True Positive errors: {tp}')\n",
    "\n"
   ]
  },
  {
   "cell_type": "markdown",
   "metadata": {},
   "source": [
    "**2.2)** Посчитайте стандартную метрику Accuracy на тестовой выборке c помощью матрицы ошибок. Напомним, что это просто доля верно предсказанных меток:\n",
    "$\n",
    "ACC = \\dfrac{TP + TN}{TP + TN + FP + FN}\n",
    "$.\n",
    "\n",
    "(Не стоит переводить accuracy как точность, так как под точностью иногда еще понимают precision, который является совсем другим показателем! Лучше всегда использовать английские версии метрик, чтобы не возникало недопониманий. )"
   ]
  },
  {
   "cell_type": "code",
   "execution_count": 10,
   "metadata": {
    "execution": {
     "iopub.execute_input": "2022-04-18T20:21:39.346296Z",
     "iopub.status.busy": "2022-04-18T20:21:39.345406Z",
     "iopub.status.idle": "2022-04-18T20:21:39.353142Z",
     "shell.execute_reply": "2022-04-18T20:21:39.352372Z",
     "shell.execute_reply.started": "2022-04-18T20:21:39.346248Z"
    }
   },
   "outputs": [
    {
     "name": "stdout",
     "output_type": "stream",
     "text": [
      " AAC 0.842\n"
     ]
    }
   ],
   "source": [
    "ACC = (tp + tn) / (tp + tn + fp + fn)\n",
    "\n",
    "print(f' AAC {round(ACC, 3)}')"
   ]
  },
  {
   "cell_type": "markdown",
   "metadata": {},
   "source": [
    "Мы ожидаем, что полученная accuracy совпадет с той, что была подсчитана во время использования функции `cross_validate`"
   ]
  },
  {
   "cell_type": "markdown",
   "metadata": {},
   "source": [
    "Мы знаем, что accuracy не является хорошим показателем качества модели при несбалансированных классах. \n",
    "\n",
    "Допустим у нас 1000 объектов, где 990 имеют метку класса 0, а остальные 10 имеют метку 1. В нашем случае, класс 0 соответствует компьютерам, на которых нет вируса, а класс 1 - на которых есть. Тогда accuracy у константной модели, которая всегда предсказывает нулевой класс будет $0.99$, хотя задача как раз состоит в том, чтобы детектировать эти самые 10 объектов, которые соответствуют зараженным компьютерам. "
   ]
  },
  {
   "cell_type": "markdown",
   "metadata": {},
   "source": [
    "При несбалансированных выборках с помощью матрицы ошибок можно посчитать следующие метрики\n",
    "\n",
    "* **Precision** показывает \"точность\" попадания нашего классификатора в положительный класс, то есть долю правильно предсказанных положительных объектов среди всех **предсказанных** положительных объектов. \n",
    "\n",
    "* **Recall** показывает \"полноту\" предсказаний нашего классификатора, то есть долю правильно предсказанных положительных объектов среди всех **реальных** положительных объектов\n",
    "\n",
    "**2.3)** Посчитайте Precision и Recall с помощью матрицы ошибок. Потом сравните с реализацией в sklearn. Напомним формулы из лекции:\n",
    "\n",
    "$$\n",
    "Precision = \\dfrac{TP}{TP + FP}, \\quad Recall = \\dfrac{TP}{TP + FN}\n",
    "$$"
   ]
  },
  {
   "cell_type": "code",
   "execution_count": 11,
   "metadata": {
    "execution": {
     "iopub.execute_input": "2022-04-18T20:22:01.870920Z",
     "iopub.status.busy": "2022-04-18T20:22:01.870590Z",
     "iopub.status.idle": "2022-04-18T20:22:01.896558Z",
     "shell.execute_reply": "2022-04-18T20:22:01.895618Z",
     "shell.execute_reply.started": "2022-04-18T20:22:01.870886Z"
    }
   },
   "outputs": [
    {
     "name": "stdout",
     "output_type": "stream",
     "text": [
      "precision_ посчитанная с помощью матрицы ошибок 0.643; \n",
      "recall_ посчитанная с помощью матрицы ошибок 0.106\n",
      "precision 0.643; \n",
      "recall 0.106\n"
     ]
    }
   ],
   "source": [
    "from sklearn.metrics import recall_score, precision_score, f1_score\n",
    "\n",
    "precision_ = round(tp / (tp + fp), 3)\n",
    "recall_ = round(tp / (tp + fn), 3)\n",
    "\n",
    "\n",
    "\n",
    "print(f'precision_ посчитанная с помощью матрицы ошибок {precision_}; \\nrecall_ посчитанная с помощью матрицы ошибок {recall_}')\n",
    "\n",
    "print(f'precision {round(precision_score(y_test, pipe.predict(X_test)), 3)}; \\nrecall {round(recall_score(y_test, pipe.predict(X_test)), 3)}')\n"
   ]
  },
  {
   "cell_type": "markdown",
   "metadata": {},
   "source": [
    "Теперь картина кажется не такой уж лучезарной!"
   ]
  },
  {
   "cell_type": "markdown",
   "metadata": {},
   "source": [
    "Вспомним, \n",
    "\n",
    "Метод `.predict` на самом деле берёт предсказанные вероятности для каждого класса и каждому объекту присваивает тот класс, у которого больше вероятность. \n",
    "\n",
    "Так как мы сейчас занимаемся бинарной классификацией, то большая вероятность определяется просто сравнением с порогом 0.5.\n",
    "\n",
    "**2.4)** Воспользуйтесь методом `.predict_proba` и с помощью сравнения с порогом 0.5 постройте вектор предсказаний. Проверьте результат на ранее предсказанных метках, вектора должны совпадать."
   ]
  },
  {
   "cell_type": "code",
   "execution_count": 12,
   "metadata": {
    "execution": {
     "iopub.execute_input": "2022-04-18T20:22:18.856848Z",
     "iopub.status.busy": "2022-04-18T20:22:18.856503Z",
     "iopub.status.idle": "2022-04-18T20:22:18.869936Z",
     "shell.execute_reply": "2022-04-18T20:22:18.869195Z",
     "shell.execute_reply.started": "2022-04-18T20:22:18.856814Z"
    }
   },
   "outputs": [],
   "source": [
    "pred_probs = pipe.predict_proba(X_test)"
   ]
  },
  {
   "cell_type": "code",
   "execution_count": null,
   "metadata": {},
   "outputs": [],
   "source": []
  },
  {
   "cell_type": "markdown",
   "metadata": {},
   "source": [
    "**Задание 3.**\n",
    "Решим бизнес задачу. \\\n",
    "**3.1)** Допустим, заказчик требует, чтобы наш классификатор в 60% случаев правильно предсказывал наличие вируса на компьютере, чтобы не беспокоить клиентов из-за ложноположительных результатов. \\\n",
    "Как решить эту задачу? =>\n",
    "Надо подобрать порог, который максимизирует `recall` при условии, что `precision > 0.6`.\n",
    "\n",
    "$$\n",
    "(recall | precision > 0.6) \\to \\max_{thres}\n",
    "$$"
   ]
  },
  {
   "cell_type": "code",
   "execution_count": 13,
   "metadata": {
    "execution": {
     "iopub.execute_input": "2022-04-18T21:30:53.998031Z",
     "iopub.status.busy": "2022-04-18T21:30:53.997709Z",
     "iopub.status.idle": "2022-04-18T21:30:54.007307Z",
     "shell.execute_reply": "2022-04-18T21:30:54.005784Z",
     "shell.execute_reply.started": "2022-04-18T21:30:53.997997Z"
    }
   },
   "outputs": [
    {
     "name": "stdout",
     "output_type": "stream",
     "text": [
      "Precison:\t 0.6003717472118959\n",
      "Recall: \t 0.1300060374320789\n",
      "Threshold:\t 0.45766970448125405\n"
     ]
    }
   ],
   "source": [
    "from sklearn.metrics import precision_recall_curve\n",
    "\n",
    "### Строим всевозможные комбинации precision, recall, threshold\n",
    "\n",
    "precision, recall, thres = precision_recall_curve(y_test, pred_probs[:, 1])\n",
    "\n",
    "### Находим такую тройку, при которой recall максимален, а precision > 0.6\n",
    "\n",
    "ind = np.where(recall == recall[precision > 0.6].max())\n",
    "\n",
    "print(f\"Precison:\\t {precision[ind][-1]}\")\n",
    "print(f\"Recall: \\t {recall[ind][-1]}\")\n",
    "print(f\"Threshold:\\t {thres[ind][-1]}\")"
   ]
  },
  {
   "cell_type": "markdown",
   "metadata": {},
   "source": [
    "Теперь чтобы соответствовать установленным условиям, мы будем замерять вероятности для объектов и сравнивать и с найденным `Threshold`, который решает нашу задачу"
   ]
  },
  {
   "cell_type": "markdown",
   "metadata": {},
   "source": [
    "**3.2)** Аналогично решите задачу, где заказчик требует, чтобы наш классификатор находил хотя бы 20% компьютеров с вирусом, среди всех действительно зараженных компьютеров.\n",
    "$$\n",
    "(precision | recall > 0.2) \\to \\max_{thres}\n",
    "$$"
   ]
  },
  {
   "cell_type": "code",
   "execution_count": 14,
   "metadata": {
    "execution": {
     "iopub.execute_input": "2022-04-18T21:31:02.333007Z",
     "iopub.status.busy": "2022-04-18T21:31:02.331845Z",
     "iopub.status.idle": "2022-04-18T21:31:02.341309Z",
     "shell.execute_reply": "2022-04-18T21:31:02.340237Z",
     "shell.execute_reply.started": "2022-04-18T21:31:02.332952Z"
    }
   },
   "outputs": [
    {
     "name": "stdout",
     "output_type": "stream",
     "text": [
      "Precison:\t 0.4923229321446261\n",
      "Recall: \t 0.2000402495471926\n",
      "Threshold:\t 0.330749362125647\n"
     ]
    }
   ],
   "source": [
    "### Your code is here\n",
    "\n",
    "ind = np.where(precision == precision[recall > 0.2].max())\n",
    "\n",
    "print(f\"Precison:\\t {precision[ind][-1]}\")\n",
    "print(f\"Recall: \\t {recall[ind][-1]}\")\n",
    "print(f\"Threshold:\\t {thres[ind][-1]}\")"
   ]
  },
  {
   "cell_type": "markdown",
   "metadata": {},
   "source": [
    "**Задание 4.** На самом деле, можно объединить предыдущие две задачи и максимизировать взвешенную метрику, которая учитывает и Precision, и Recall. \\\n",
    "Посчитайте три такие метрики: среднее арифметическое, среднее геометрическое и минимум. \n",
    "1) Найдите порог, который их максимизирует. \\\n",
    "2) Выведите precision, recall, соответствующие этому порогу. \\\n",
    "3) Нарисуйте линии уровня для каждой из этих метрик, используя функцию `level_lines`. \\\n",
    "4) Изобразите точку $(recall, precision)$ соответствующую этому порогу на графике линий уровня.\n",
    "\n",
    "$$\n",
    "Arithm_{avg} = \\dfrac{P + R}{2}, \\quad Geom_{avg} = \\sqrt{P + R}, \\quad Min = \\min(P, R)\n",
    "$$\n"
   ]
  },
  {
   "cell_type": "code",
   "execution_count": 15,
   "metadata": {
    "execution": {
     "iopub.execute_input": "2022-04-18T21:06:41.487631Z",
     "iopub.status.busy": "2022-04-18T21:06:41.487165Z",
     "iopub.status.idle": "2022-04-18T21:06:41.497141Z",
     "shell.execute_reply": "2022-04-18T21:06:41.496096Z",
     "shell.execute_reply.started": "2022-04-18T21:06:41.487592Z"
    }
   },
   "outputs": [],
   "source": [
    "def level_lines(func, name):\n",
    "    x = np.linspace(0, 1.1, 100)\n",
    "    y = np.linspace(0, 1.1, 100)\n",
    "    \n",
    "    X, Y = np.meshgrid(x, y)\n",
    "    Z = func(X, Y)\n",
    "    \n",
    "    plt.figure(figsize=(5, 5))\n",
    "    plt.title(name)\n",
    "    plt.xlabel('Recall')\n",
    "    plt.ylabel('Precision')\n",
    "    plt.contour(X, Y, Z, 15, cmap='plasma');"
   ]
  },
  {
   "cell_type": "code",
   "execution_count": 16,
   "metadata": {
    "execution": {
     "iopub.execute_input": "2022-04-18T21:31:12.676559Z",
     "iopub.status.busy": "2022-04-18T21:31:12.675161Z",
     "iopub.status.idle": "2022-04-18T21:31:12.952717Z",
     "shell.execute_reply": "2022-04-18T21:31:12.951877Z",
     "shell.execute_reply.started": "2022-04-18T21:31:12.676468Z"
    }
   },
   "outputs": [
    {
     "name": "stdout",
     "output_type": "stream",
     "text": [
      "Precision:\t 0.16995681677976557\n",
      "Recall: \t 0.9979875226403703\n",
      "Threshold:\t 0.021987348086612287\n"
     ]
    },
    {
     "data": {
      "image/png": "[encoded data removed]",
      "text/plain": [
       "<Figure size 360x360 with 1 Axes>"
      ]
     },
     "metadata": {
      "needs_background": "light"
     },
     "output_type": "display_data"
    }
   ],
   "source": [
    "### Покажем на примере среднего арифметического, что должно у вас получиться\n",
    "\n",
    "metric_func = lambda x, y: (x + y)/2\n",
    "\n",
    "arithm_idx = (metric_func(precision, recall)).argmax()\n",
    "\n",
    "print(f\"Precision:\\t {precision[arithm_idx]}\")\n",
    "print(f\"Recall: \\t {recall[arithm_idx]}\")\n",
    "print(f\"Threshold:\\t {thres[arithm_idx]}\")\n",
    "\n",
    "level_lines(metric_func, \"Arithmetic AVG\")\n",
    "plt.plot(recall[arithm_idx], precision[arithm_idx], 'ro');"
   ]
  },
  {
   "cell_type": "code",
   "execution_count": 17,
   "metadata": {
    "execution": {
     "iopub.execute_input": "2022-04-18T21:06:44.262744Z",
     "iopub.status.busy": "2022-04-18T21:06:44.262365Z",
     "iopub.status.idle": "2022-04-18T21:06:44.552416Z",
     "shell.execute_reply": "2022-04-18T21:06:44.551195Z",
     "shell.execute_reply.started": "2022-04-18T21:06:44.262695Z"
    }
   },
   "outputs": [
    {
     "name": "stdout",
     "output_type": "stream",
     "text": [
      "Precision :\t 0.22336008856905618\n",
      "Recall : \t 0.8120346146105857\n",
      "Threshold : \t 0.12529268151844508\n"
     ]
    },
    {
     "data": {
      "text/plain": [
       "[<matplotlib.lines.Line2D at 0x2abb8f7aac0>]"
      ]
     },
     "execution_count": 17,
     "metadata": {},
     "output_type": "execute_result"
    },
    {
     "data": {
      "image/png": "[encoded data removed]",
      "text/plain": [
       "<Figure size 360x360 with 1 Axes>"
      ]
     },
     "metadata": {
      "needs_background": "light"
     },
     "output_type": "display_data"
    }
   ],
   "source": [
    "### Повторите для среднего геометрического\n",
    "\n",
    "\n",
    "metric_func_geom = lambda x, y: (x*y)**0.5\n",
    "\n",
    "geom_idx = (metric_func_geom(precision, recall)).argmax()\n",
    "\n",
    "print(f'Precision :\\t {precision[geom_idx]}')\n",
    "print(f'Recall : \\t {recall[geom_idx]}')\n",
    "print(f'Threshold : \\t {thres[geom_idx]}')\n",
    "\n",
    "level_lines(metric_func_geom, 'Geom AVG')\n",
    "plt.plot(recall[geom_idx], precision[geom_idx], 'ro')"
   ]
  },
  {
   "cell_type": "code",
   "execution_count": 18,
   "metadata": {
    "execution": {
     "iopub.execute_input": "2022-04-18T21:06:51.137490Z",
     "iopub.status.busy": "2022-04-18T21:06:51.137163Z",
     "iopub.status.idle": "2022-04-18T21:06:51.399211Z",
     "shell.execute_reply": "2022-04-18T21:06:51.398089Z",
     "shell.execute_reply.started": "2022-04-18T21:06:51.137457Z"
    }
   },
   "outputs": [
    {
     "name": "stdout",
     "output_type": "stream",
     "text": [
      "Precision : \t 0.35882471322197623\n",
      "Recall : \t 0.35882471322197623\n",
      "Threshold : \t 0.23674927111124824\n"
     ]
    },
    {
     "data": {
      "text/plain": [
       "[<matplotlib.lines.Line2D at 0x2abb901c160>]"
      ]
     },
     "execution_count": 18,
     "metadata": {},
     "output_type": "execute_result"
    },
    {
     "data": {
      "image/png": "[encoded data removed]",
      "text/plain": [
       "<Figure size 360x360 with 1 Axes>"
      ]
     },
     "metadata": {
      "needs_background": "light"
     },
     "output_type": "display_data"
    }
   ],
   "source": [
    "### Повторите для минимума\n",
    "\n",
    "func_min = lambda x, y: np.minimum(x, y)\n",
    "\n",
    "\n",
    "min_idx = (func_min(precision, recall)).argmax()\n",
    "\n",
    "\n",
    "print(f'Precision : \\t {precision[min_idx]}')\n",
    "print(f'Recall : \\t {recall[min_idx]}')\n",
    "print(f'Threshold : \\t {thres[min_idx]}')\n",
    "\n",
    "level_lines(func_min, 'MIN')\n",
    "plt.plot(recall[min_idx], precision[min_idx], 'ro')\n"
   ]
  },
  {
   "cell_type": "markdown",
   "metadata": {},
   "source": [
    "**Задание 5.** Одним из самых распространенных показателей качества является **F-мера**, которая обобщает все вышерассмотренные метрики. Более того, в ней можно регулировать параметр $\\beta^2$, который отвечает за предпочтение между precision и recall. \n",
    "$$\n",
    "F = \\dfrac{(1 + \\beta^2) P \\cdot R}{\\beta^2 P + R}\n",
    "$$\n",
    "* При $\\beta^2 = 1$ и precision, и recall нам важны в равной степени.\n",
    "* При $\\beta^2 > 1$ предпочтение отдается recall. Похоже на решение задачи, где мы фиксируем примлемое для нас значение recall и максимизируем precision.\n",
    "* При $0 < \\beta^2 < 1$ предпочтение отдается precision. Похоже на решение задачи, где мы фиксируем примлемое для нас значение precision и максимизируем recall.\n",
    "\n",
    "Найдите порог, который максимизирует:\n",
    "1) F-меру с $\\beta^2 = 1$, \\\n",
    "2) F-меру с $\\beta^2 = 0.05$, \\\n",
    "3) F-меру с подобранным параметром $\\beta^2$ так, чтобы recall > 0.8.\\\n",
    "Для всех трех случаев выведите precision, recall, threshold и F-меру. \n",
    "Нарисуйте линии уровня и точку, которая максимизирует F-меру по аналогии с предыдущим пунктом."
   ]
  },
  {
   "cell_type": "code",
   "execution_count": 24,
   "metadata": {},
   "outputs": [],
   "source": [
    "f_score_ = lambda p, r, b: ((1 + b) * p * r) / (b*p + r)"
   ]
  },
  {
   "cell_type": "code",
   "execution_count": 26,
   "metadata": {
    "execution": {
     "iopub.execute_input": "2022-04-18T21:35:08.199747Z",
     "iopub.status.busy": "2022-04-18T21:35:08.199283Z",
     "iopub.status.idle": "2022-04-18T21:35:08.483726Z",
     "shell.execute_reply": "2022-04-18T21:35:08.482715Z",
     "shell.execute_reply.started": "2022-04-18T21:35:08.199696Z"
    }
   },
   "outputs": [
    {
     "name": "stdout",
     "output_type": "stream",
     "text": [
      "Threshold : \t 0.192\n",
      "Precision : \t 0.285\n",
      "Recall : \t 0.525\n",
      "f_score : \t 0.369\n"
     ]
    }
   ],
   "source": [
    "### Повторите для F-меры при \\beta=1\n",
    "### Выведете ее вместе с precision/recall/threshold\n",
    "### Your code is here\n",
    "\n",
    "\n",
    "f1_idx = (f_score_(precision, recall, 1)).argmax()\n",
    "\n",
    "\n",
    "print(f'Threshold : \\t {round(thres[f1_idx], 3)}')\n",
    "print(f'Precision : \\t {round(precision[f1_idx], 3)}')\n",
    "print(f'Recall : \\t {round(recall[f1_idx], 3)}')\n",
    "print(f'f_score : \\t {round(f_score_(precision[f1_idx], recall[f1_idx], 1), 3)}')\n",
    "\n",
    "\n"
   ]
  },
  {
   "cell_type": "code",
   "execution_count": 28,
   "metadata": {
    "execution": {
     "iopub.execute_input": "2022-04-18T21:37:11.185314Z",
     "iopub.status.busy": "2022-04-18T21:37:11.184196Z",
     "iopub.status.idle": "2022-04-18T21:37:11.456684Z",
     "shell.execute_reply": "2022-04-18T21:37:11.455149Z",
     "shell.execute_reply.started": "2022-04-18T21:37:11.185205Z"
    }
   },
   "outputs": [
    {
     "name": "stdout",
     "output_type": "stream",
     "text": [
      "Threshold : \t 0.497\n",
      "Precision : \t 0.642\n",
      "Recall : \t 0.109\n",
      "f_score : \t 0.521\n"
     ]
    }
   ],
   "source": [
    "### Повторите для F-меры при \\beta=0.05\n",
    "### Выведете ее вместе с precision/recall/threshold\n",
    "### Your code is here\n",
    "\n",
    "\n",
    "\n",
    "f1_idx = (f_score_(precision, recall, 0.05)).argmax()\n",
    "\n",
    "\n",
    "print(f'Threshold : \\t {round(thres[f1_idx], 3)}')\n",
    "print(f'Precision : \\t {round(precision[f1_idx], 3)}')\n",
    "print(f'Recall : \\t {round(recall[f1_idx], 3)}')\n",
    "print(f'f_score : \\t {round(f_score_(precision[f1_idx], recall[f1_idx], 0.05), 3)}')\n",
    "\n",
    "\n",
    "\n"
   ]
  },
  {
   "cell_type": "code",
   "execution_count": 30,
   "metadata": {
    "execution": {
     "iopub.execute_input": "2022-04-18T21:37:22.505899Z",
     "iopub.status.busy": "2022-04-18T21:37:22.505490Z",
     "iopub.status.idle": "2022-04-18T21:37:22.779164Z",
     "shell.execute_reply": "2022-04-18T21:37:22.778007Z",
     "shell.execute_reply.started": "2022-04-18T21:37:22.505867Z"
    }
   },
   "outputs": [
    {
     "name": "stdout",
     "output_type": "stream",
     "text": [
      "Threshold : \t 0.108\n",
      "Precision : \t 0.2099\n",
      "Recall : \t 0.863\n",
      "f_score : \t 0.532\n"
     ]
    }
   ],
   "source": [
    "### Повторите для F-меры при \\beta=4\n",
    "### Выведете ее вместе с precision/recall/threshold\n",
    "### Your code is here\n",
    "\n",
    "\n",
    "\n",
    "f1_idx = (f_score_(precision, recall, 4)).argmax()\n",
    "\n",
    "\n",
    "print(f'Threshold : \\t {round(thres[f1_idx], 3)}')\n",
    "print(f'Precision : \\t {round(precision[f1_idx], 4)}')\n",
    "print(f'Recall : \\t {round(recall[f1_idx], 3)}')\n",
    "print(f'f_score : \\t {round(f_score_(precision[f1_idx], recall[f1_idx], 4), 3)}')\n",
    "\n",
    "\n",
    "\n"
   ]
  },
  {
   "cell_type": "code",
   "execution_count": null,
   "metadata": {},
   "outputs": [],
   "source": []
  }
 ],
 "metadata": {
  "kernelspec": {
   "display_name": "Python 3 (ipykernel)",
   "language": "python",
   "name": "python3"
  },
  "language_info": {
   "codemirror_mode": {
    "name": "ipython",
    "version": 3
   },
   "file_extension": ".py",
   "mimetype": "text/x-python",
   "name": "python",
   "nbconvert_exporter": "python",
   "pygments_lexer": "ipython3",
   "version": "3.9.7"
  }
 },
 "nbformat": 4,
 "nbformat_minor": 4
}
